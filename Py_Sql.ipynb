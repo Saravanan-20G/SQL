{
 "cells": [
  {
   "cell_type": "code",
   "execution_count": 3,
   "metadata": {},
   "outputs": [
    {
     "name": "stdout",
     "output_type": "stream",
     "text": [
      "Requirement already satisfied: psycopg2 in d:\\guvi\\singapore  resale flat prices predicting\\.venv\\lib\\site-packages (2.9.9)\n",
      "Note: you may need to restart the kernel to use updated packages.\n"
     ]
    },
    {
     "name": "stderr",
     "output_type": "stream",
     "text": [
      "\n",
      "[notice] A new release of pip is available: 24.0 -> 24.1.1\n",
      "[notice] To update, run: python.exe -m pip install --upgrade pip\n"
     ]
    }
   ],
   "source": [
    "pip install psycopg2"
   ]
  },
  {
   "cell_type": "code",
   "execution_count": 6,
   "metadata": {},
   "outputs": [
    {
     "name": "stdout",
     "output_type": "stream",
     "text": [
      "Data inserted successfully\n"
     ]
    }
   ],
   "source": [
    "import psycopg2\n",
    "\n",
    "# Connect to the PostgreSQL database\n",
    "try:\n",
    "    mydb = psycopg2.connect(\n",
    "        host='localhost',\n",
    "        user='postgres',\n",
    "        password='123456',\n",
    "        database='sql',\n",
    "        port=5432\n",
    "    )\n",
    "    cursor = mydb.cursor()\n",
    "    \n",
    "    # Create the EMPLOYEES table\n",
    "    cursor.execute('''\n",
    "    CREATE TABLE IF NOT EXISTS EMPLOYEES (\n",
    "        EMP_ID INT PRIMARY KEY,\n",
    "        EMP_NAME VARCHAR(50),\n",
    "        SALARY NUMERIC(10, 2)\n",
    "    )\n",
    "    ''')\n",
    "    \n",
    "    # Insert multiple rows into the EMPLOYEES table\n",
    "    cursor.executemany('''\n",
    "    INSERT INTO EMPLOYEES (EMP_ID, EMP_NAME, SALARY) VALUES (%s, %s, %s)\n",
    "    ''', [\n",
    "        (1, 'John Doe', 55000.00),\n",
    "        (2, 'Jane Smith', 65000.00),\n",
    "        (3, 'Alice Johnson', 70000.00),\n",
    "        (4, 'Robert Brown', 50000.00),\n",
    "        (5, 'Emily Davis', 72000.00)\n",
    "    ])\n",
    "    \n",
    "    # Commit the changes and close the connection\n",
    "    mydb.commit()\n",
    "    cursor.close()\n",
    "    mydb.close()\n",
    "    print(\"Data inserted successfully\")\n",
    "\n",
    "except Exception as e:\n",
    "    print(\"Error: \", e)\n"
   ]
  },
  {
   "cell_type": "code",
   "execution_count": 16,
   "metadata": {},
   "outputs": [],
   "source": [
    "\n",
    "mydb = psycopg2.connect(\n",
    "    host='localhost',\n",
    "    user='postgres',\n",
    "    password='123456',\n",
    "    database='sql',\n",
    "    port=5432\n",
    ")\n",
    "cursor = mydb.cursor()"
   ]
  },
  {
   "cell_type": "code",
   "execution_count": 17,
   "metadata": {},
   "outputs": [
    {
     "name": "stdout",
     "output_type": "stream",
     "text": [
      "Table created successfully\n"
     ]
    }
   ],
   "source": [
    "cursor.execute('''\n",
    "    CREATE TABLE IF NOT EXISTS DEPT (\n",
    "        DEP_ID INT PRIMARY KEY,\n",
    "        DEPT_NAME VARCHAR(50),\n",
    "        EMP_ID INT\n",
    "    )\n",
    "    ''')\n",
    "    \n",
    "    # Commit the changes and close the connection\n",
    "mydb.commit()\n",
    "\n",
    "print(\"Table created successfully\")"
   ]
  },
  {
   "cell_type": "code",
   "execution_count": 18,
   "metadata": {},
   "outputs": [],
   "source": [
    "cursor.executemany('''\n",
    "INSERT INTO DEPT(DEP_ID,DEPT_NAME,EMP_ID) VALUES (%s,%s,%s)''',\n",
    "[\n",
    "    (10,'base',1),\n",
    "    (20,'movie',2),\n",
    "    (30,'swim',3),\n",
    "    (40,'run',4),\n",
    "    (50,'bat',5)\n",
    "    \n",
    "])\n",
    "mydb.commit()\n",
    "cursor.close()\n",
    "mydb.close()\n"
   ]
  },
  {
   "cell_type": "code",
   "execution_count": 35,
   "metadata": {},
   "outputs": [],
   "source": [
    "mydb = psycopg2.connect(\n",
    "    host='localhost',\n",
    "    user='postgres',\n",
    "    password='123456',\n",
    "    database='sql',\n",
    "    port=5432\n",
    ")\n",
    "cursor = mydb.cursor()"
   ]
  },
  {
   "cell_type": "code",
   "execution_count": 22,
   "metadata": {},
   "outputs": [
    {
     "name": "stdout",
     "output_type": "stream",
     "text": [
      "(1, 'John Doe', Decimal('55000.00'))\n",
      "(2, 'Jane Smith', Decimal('65000.00'))\n",
      "(3, 'Alice Johnson', Decimal('70000.00'))\n",
      "(4, 'Robert Brown', Decimal('50000.00'))\n",
      "(5, 'Emily Davis', Decimal('72000.00'))\n"
     ]
    }
   ],
   "source": [
    "cursor.execute(\"SELECT * FROM EMPLOYEES;\")\n",
    "employees=cursor.fetchall()\n",
    "for emp in employees:\n",
    "    print(emp)"
   ]
  },
  {
   "cell_type": "code",
   "execution_count": 23,
   "metadata": {},
   "outputs": [
    {
     "name": "stdout",
     "output_type": "stream",
     "text": [
      "(10, 'base', 1)\n",
      "(20, 'movie', 2)\n",
      "(30, 'swim', 3)\n",
      "(40, 'run', 4)\n",
      "(50, 'bat', 5)\n"
     ]
    }
   ],
   "source": [
    "cursor.execute(\"SELECT * FROM DEPT;\")\n",
    "dept=cursor.fetchall()\n",
    "for dep in dept:\n",
    "    print(dep)"
   ]
  },
  {
   "cell_type": "markdown",
   "metadata": {},
   "source": [
    "Find the employee  salary decending order"
   ]
  },
  {
   "cell_type": "code",
   "execution_count": 27,
   "metadata": {},
   "outputs": [
    {
     "name": "stdout",
     "output_type": "stream",
     "text": [
      "[('Emily Davis', Decimal('72000.00')), ('Alice Johnson', Decimal('70000.00')), ('Jane Smith', Decimal('65000.00')), ('John Doe', Decimal('55000.00')), ('Robert Brown', Decimal('50000.00'))]\n"
     ]
    }
   ],
   "source": [
    "cursor.execute(\"SELECT EMP_NAME,SALARY FROM EMPLOYEES ORDER BY SALARY DESC\")\n",
    "desc=cursor.fetchall()\n",
    "\n",
    "print(desc)\n",
    "\n"
   ]
  },
  {
   "cell_type": "markdown",
   "metadata": {},
   "source": [
    "Find the employee with the highest salary"
   ]
  },
  {
   "cell_type": "code",
   "execution_count": 28,
   "metadata": {},
   "outputs": [
    {
     "name": "stdout",
     "output_type": "stream",
     "text": [
      "('Emily Davis', Decimal('72000.00'))\n"
     ]
    }
   ],
   "source": [
    "cursor.execute(\"SELECT EMP_NAME,SALARY FROM EMPLOYEES ORDER BY SALARY DESC LIMIT 1\")\n",
    "high_salary=cursor.fetchone()\n",
    "print(high_salary)"
   ]
  },
  {
   "cell_type": "markdown",
   "metadata": {},
   "source": [
    "Count the number of employees"
   ]
  },
  {
   "cell_type": "code",
   "execution_count": 36,
   "metadata": {},
   "outputs": [
    {
     "name": "stdout",
     "output_type": "stream",
     "text": [
      "(5,)\n"
     ]
    }
   ],
   "source": [
    "cursor.execute(\"SELECT COUNT(*) FROM EMPLOYEES\")\n",
    "no_of_emp=cursor.fetchone()\n",
    "print(no_of_emp)"
   ]
  },
  {
   "cell_type": "markdown",
   "metadata": {},
   "source": [
    "List all employees and their corresponding departments"
   ]
  },
  {
   "cell_type": "code",
   "execution_count": null,
   "metadata": {},
   "outputs": [],
   "source": [
    "cursor.execute(\"\")"
   ]
  }
 ],
 "metadata": {
  "kernelspec": {
   "display_name": ".venv",
   "language": "python",
   "name": "python3"
  },
  "language_info": {
   "codemirror_mode": {
    "name": "ipython",
    "version": 3
   },
   "file_extension": ".py",
   "mimetype": "text/x-python",
   "name": "python",
   "nbconvert_exporter": "python",
   "pygments_lexer": "ipython3",
   "version": "3.11.9"
  }
 },
 "nbformat": 4,
 "nbformat_minor": 2
}
